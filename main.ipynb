Case 1 #main.ipynb 자체에서 실행하는 학습코드

from models.ImageGener import StyleGAN
from models.TTS import tacotron


model = StyleGAN()
model2 = tacotron()

for epoch in epochs:
    for idx, data in enumerate(dataloader):
        

Case2 스크립트 형태로 train

pip install -r requirements.txt

!python train.py    # 모델 불러오는 코드, 학습하는 코드

!python infer.py
